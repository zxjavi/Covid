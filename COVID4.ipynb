{
 "cells": [
  {
   "cell_type": "markdown",
   "metadata": {},
   "source": [
    "# Hospital Data Visualization 4"
   ]
  },
  {
   "cell_type": "markdown",
   "metadata": {},
   "source": [
    "## Importing required libraries"
   ]
  },
  {
   "cell_type": "code",
   "execution_count": 1,
   "metadata": {},
   "outputs": [
    {
     "name": "stdout",
     "output_type": "stream",
     "text": [
      "{'encoding': 'ISO-8859-1', 'confidence': 0.73, 'language': ''}\n"
     ]
    }
   ],
   "source": [
    "# Library for modeling\n",
    "from sklearn.preprocessing import LabelEncoder, StandardScaler\n",
    "from sklearn.model_selection import train_test_split\n",
    "from sklearn.metrics import accuracy_score\n",
    "from sklearn.tree import DecisionTreeClassifier\n",
    "from sklearn import tree\n",
    "from sklearn.ensemble import RandomForestClassifier\n",
    "from sklearn.externals import joblib\n",
    "\n",
    "# Library to see the training models\n",
    "from sklearn.tree import export_graphviz\n",
    "from sklearn.externals.six import StringIO  \n",
    "from IPython.display import Image  \n",
    "import pydotplus\n",
    "\n",
    "import pandas as pd\n",
    "import numpy as np\n",
    "import matplotlib.pyplot as plt\n",
    "import seaborn as sns\n",
    "import chardet\n",
    "import warnings\n",
    "\n",
    "warnings.filterwarnings('ignore')\n",
    "# look at the first ten thousand bytes to guess the character encoding\n",
    "with open('04.csv', 'rb') as rawdata:\n",
    "    result = chardet.detect(rawdata.read(10000))\n",
    "\n",
    "# check what the character encoding might be\n",
    "print(result)"
   ]
  },
  {
   "cell_type": "markdown",
   "metadata": {},
   "source": [
    "## Reading the Data"
   ]
  },
  {
   "cell_type": "code",
   "execution_count": 2,
   "metadata": {},
   "outputs": [],
   "source": [
    "df_lab=pd.read_csv('04.csv',sep=';',encoding='ISO-8859-1') "
   ]
  },
  {
   "cell_type": "code",
   "execution_count": 3,
   "metadata": {},
   "outputs": [
    {
     "data": {
      "text/html": [
       "<div>\n",
       "<style scoped>\n",
       "    .dataframe tbody tr th:only-of-type {\n",
       "        vertical-align: middle;\n",
       "    }\n",
       "\n",
       "    .dataframe tbody tr th {\n",
       "        vertical-align: top;\n",
       "    }\n",
       "\n",
       "    .dataframe thead th {\n",
       "        text-align: right;\n",
       "    }\n",
       "</style>\n",
       "<table border=\"1\" class=\"dataframe\">\n",
       "  <thead>\n",
       "    <tr style=\"text-align: right;\">\n",
       "      <th></th>\n",
       "      <th>PATIENT ID</th>\n",
       "      <th>PETICION_LABORATORIO/LAB_NUMBER</th>\n",
       "      <th>FECHA_PETICION/LAB_DATE</th>\n",
       "      <th>HORA_PETICION/TIME_LAB</th>\n",
       "      <th>DETERMINACION/ITEM_LAB</th>\n",
       "      <th>RESULTADO/VAL_RESULT</th>\n",
       "      <th>UNIDADES/UD_RESULT</th>\n",
       "      <th>VALORES_REFERENCIA/REF_VALUES</th>\n",
       "    </tr>\n",
       "  </thead>\n",
       "  <tbody>\n",
       "    <tr>\n",
       "      <th>0</th>\n",
       "      <td>1</td>\n",
       "      <td>I-1</td>\n",
       "      <td>2020-04-08</td>\n",
       "      <td>0:00</td>\n",
       "      <td>GOT -- GOT (AST)</td>\n",
       "      <td>215</td>\n",
       "      <td>U/L</td>\n",
       "      <td>&lt;41</td>\n",
       "    </tr>\n",
       "    <tr>\n",
       "      <th>1</th>\n",
       "      <td>1</td>\n",
       "      <td>I-1</td>\n",
       "      <td>2020-04-08</td>\n",
       "      <td>0:00</td>\n",
       "      <td>LIN% -- Linfocitos %</td>\n",
       "      <td>3</td>\n",
       "      <td>%</td>\n",
       "      <td>(20.0 - 50.0)</td>\n",
       "    </tr>\n",
       "    <tr>\n",
       "      <th>2</th>\n",
       "      <td>1</td>\n",
       "      <td>I-1</td>\n",
       "      <td>2020-04-08</td>\n",
       "      <td>0:00</td>\n",
       "      <td>MONO -- Monocitos</td>\n",
       "      <td>0.12</td>\n",
       "      <td>x10e3/µL</td>\n",
       "      <td>(0.1 - 0.8)</td>\n",
       "    </tr>\n",
       "    <tr>\n",
       "      <th>3</th>\n",
       "      <td>1</td>\n",
       "      <td>I-2</td>\n",
       "      <td>2020-04-07</td>\n",
       "      <td>0:00</td>\n",
       "      <td>BAS -- Basófilos</td>\n",
       "      <td>0.02</td>\n",
       "      <td>x10e3/µL</td>\n",
       "      <td>(0.0 - 0.3)</td>\n",
       "    </tr>\n",
       "    <tr>\n",
       "      <th>4</th>\n",
       "      <td>1</td>\n",
       "      <td>I-2</td>\n",
       "      <td>2020-04-07</td>\n",
       "      <td>0:00</td>\n",
       "      <td>BT -- BILIRRUBINA TOTAL                       ...</td>\n",
       "      <td>0.43</td>\n",
       "      <td>mg/dL</td>\n",
       "      <td>&lt;1.2</td>\n",
       "    </tr>\n",
       "    <tr>\n",
       "      <th>5</th>\n",
       "      <td>1</td>\n",
       "      <td>I-2</td>\n",
       "      <td>2020-04-07</td>\n",
       "      <td>0:00</td>\n",
       "      <td>GGT -- GGT (GAMMA GLUTAMIL TRANSPEPTIDASA)</td>\n",
       "      <td>23</td>\n",
       "      <td>U/L</td>\n",
       "      <td>&lt;60</td>\n",
       "    </tr>\n",
       "    <tr>\n",
       "      <th>6</th>\n",
       "      <td>1</td>\n",
       "      <td>I-2</td>\n",
       "      <td>2020-04-07</td>\n",
       "      <td>0:00</td>\n",
       "      <td>HCTO -- Hematocrito</td>\n",
       "      <td>40.4</td>\n",
       "      <td>%</td>\n",
       "      <td>(40.0 - 52.0)</td>\n",
       "    </tr>\n",
       "    <tr>\n",
       "      <th>7</th>\n",
       "      <td>1</td>\n",
       "      <td>I-2</td>\n",
       "      <td>2020-04-07</td>\n",
       "      <td>0:00</td>\n",
       "      <td>HGB -- Hemoglobina</td>\n",
       "      <td>13.5</td>\n",
       "      <td>g/dL</td>\n",
       "      <td>(14.0 - 17.5)</td>\n",
       "    </tr>\n",
       "    <tr>\n",
       "      <th>8</th>\n",
       "      <td>1</td>\n",
       "      <td>I-2</td>\n",
       "      <td>2020-04-07</td>\n",
       "      <td>0:00</td>\n",
       "      <td>VCM -- Volumen Corpuscular Medio</td>\n",
       "      <td>82.6</td>\n",
       "      <td>fL</td>\n",
       "      <td>(80.0 - 99.0)</td>\n",
       "    </tr>\n",
       "    <tr>\n",
       "      <th>9</th>\n",
       "      <td>1</td>\n",
       "      <td>I-2</td>\n",
       "      <td>2020-04-07</td>\n",
       "      <td>0:00</td>\n",
       "      <td>VIHAC -- VIH AC</td>\n",
       "      <td>Negativo (0.15)</td>\n",
       "      <td>IC</td>\n",
       "      <td>Negativo: &lt;0.9^Zona límite: 0.9-1^Reactivo: &gt;1</td>\n",
       "    </tr>\n",
       "    <tr>\n",
       "      <th>10</th>\n",
       "      <td>8</td>\n",
       "      <td>I-1</td>\n",
       "      <td>2020-03-31</td>\n",
       "      <td>0:00</td>\n",
       "      <td>BAS% -- Basófilos %</td>\n",
       "      <td>0.4</td>\n",
       "      <td>%</td>\n",
       "      <td>(0.0 - 3.0)</td>\n",
       "    </tr>\n",
       "    <tr>\n",
       "      <th>11</th>\n",
       "      <td>8</td>\n",
       "      <td>I-1</td>\n",
       "      <td>2020-03-31</td>\n",
       "      <td>0:00</td>\n",
       "      <td>BEecf -- BEecf</td>\n",
       "      <td>1.7</td>\n",
       "      <td>mmol/L</td>\n",
       "      <td>(-2.0 - 3.0)</td>\n",
       "    </tr>\n",
       "    <tr>\n",
       "      <th>12</th>\n",
       "      <td>8</td>\n",
       "      <td>I-1</td>\n",
       "      <td>2020-03-31</td>\n",
       "      <td>0:00</td>\n",
       "      <td>GPT -- GPT (ALT)</td>\n",
       "      <td>35.1</td>\n",
       "      <td>U/L</td>\n",
       "      <td>&lt;33</td>\n",
       "    </tr>\n",
       "    <tr>\n",
       "      <th>13</th>\n",
       "      <td>8</td>\n",
       "      <td>I-1</td>\n",
       "      <td>2020-03-31</td>\n",
       "      <td>0:00</td>\n",
       "      <td>HCM -- Hemoglobina Corpuscular Media</td>\n",
       "      <td>29.8</td>\n",
       "      <td>pg</td>\n",
       "      <td>(28.0 - 33.0)</td>\n",
       "    </tr>\n",
       "    <tr>\n",
       "      <th>14</th>\n",
       "      <td>8</td>\n",
       "      <td>I-1</td>\n",
       "      <td>2020-03-31</td>\n",
       "      <td>0:00</td>\n",
       "      <td>LAC -- LACTATO</td>\n",
       "      <td>1.6</td>\n",
       "      <td>mmol/L</td>\n",
       "      <td>(0.5 - 2.4)</td>\n",
       "    </tr>\n",
       "  </tbody>\n",
       "</table>\n",
       "</div>"
      ],
      "text/plain": [
       "    PATIENT ID PETICION_LABORATORIO/LAB_NUMBER FECHA_PETICION/LAB_DATE  \\\n",
       "0            1                             I-1              2020-04-08   \n",
       "1            1                             I-1              2020-04-08   \n",
       "2            1                             I-1              2020-04-08   \n",
       "3            1                             I-2              2020-04-07   \n",
       "4            1                             I-2              2020-04-07   \n",
       "5            1                             I-2              2020-04-07   \n",
       "6            1                             I-2              2020-04-07   \n",
       "7            1                             I-2              2020-04-07   \n",
       "8            1                             I-2              2020-04-07   \n",
       "9            1                             I-2              2020-04-07   \n",
       "10           8                             I-1              2020-03-31   \n",
       "11           8                             I-1              2020-03-31   \n",
       "12           8                             I-1              2020-03-31   \n",
       "13           8                             I-1              2020-03-31   \n",
       "14           8                             I-1              2020-03-31   \n",
       "\n",
       "   HORA_PETICION/TIME_LAB                             DETERMINACION/ITEM_LAB  \\\n",
       "0                    0:00                                   GOT -- GOT (AST)   \n",
       "1                    0:00                               LIN% -- Linfocitos %   \n",
       "2                    0:00                                  MONO -- Monocitos   \n",
       "3                    0:00                                   BAS -- Basófilos   \n",
       "4                    0:00  BT -- BILIRRUBINA TOTAL                       ...   \n",
       "5                    0:00         GGT -- GGT (GAMMA GLUTAMIL TRANSPEPTIDASA)   \n",
       "6                    0:00                                HCTO -- Hematocrito   \n",
       "7                    0:00                                 HGB -- Hemoglobina   \n",
       "8                    0:00                   VCM -- Volumen Corpuscular Medio   \n",
       "9                    0:00                                    VIHAC -- VIH AC   \n",
       "10                   0:00                                BAS% -- Basófilos %   \n",
       "11                   0:00                                     BEecf -- BEecf   \n",
       "12                   0:00                                   GPT -- GPT (ALT)   \n",
       "13                   0:00               HCM -- Hemoglobina Corpuscular Media   \n",
       "14                   0:00                                     LAC -- LACTATO   \n",
       "\n",
       "   RESULTADO/VAL_RESULT UNIDADES/UD_RESULT  \\\n",
       "0                   215                U/L   \n",
       "1                     3                  %   \n",
       "2                  0.12           x10e3/µL   \n",
       "3                  0.02           x10e3/µL   \n",
       "4                  0.43              mg/dL   \n",
       "5                    23                U/L   \n",
       "6                  40.4                  %   \n",
       "7                  13.5               g/dL   \n",
       "8                  82.6                 fL   \n",
       "9       Negativo (0.15)                 IC   \n",
       "10                  0.4                  %   \n",
       "11                  1.7             mmol/L   \n",
       "12                 35.1                U/L   \n",
       "13                 29.8                 pg   \n",
       "14                  1.6             mmol/L   \n",
       "\n",
       "                     VALORES_REFERENCIA/REF_VALUES  \n",
       "0                                              <41  \n",
       "1                                    (20.0 - 50.0)  \n",
       "2                                      (0.1 - 0.8)  \n",
       "3                                      (0.0 - 0.3)  \n",
       "4                                             <1.2  \n",
       "5                                              <60  \n",
       "6                                    (40.0 - 52.0)  \n",
       "7                                    (14.0 - 17.5)  \n",
       "8                                    (80.0 - 99.0)  \n",
       "9   Negativo: <0.9^Zona límite: 0.9-1^Reactivo: >1  \n",
       "10                                     (0.0 - 3.0)  \n",
       "11                                    (-2.0 - 3.0)  \n",
       "12                                             <33  \n",
       "13                                   (28.0 - 33.0)  \n",
       "14                                     (0.5 - 2.4)  "
      ]
     },
     "execution_count": 3,
     "metadata": {},
     "output_type": "execute_result"
    }
   ],
   "source": [
    "df_lab.head(15)"
   ]
  },
  {
   "cell_type": "markdown",
   "metadata": {},
   "source": [
    "## Checking the Data"
   ]
  },
  {
   "cell_type": "code",
   "execution_count": 5,
   "metadata": {},
   "outputs": [
    {
     "data": {
      "text/plain": [
       "PATIENT ID                             0\n",
       "PETICION_LABORATORIO/LAB_NUMBER        0\n",
       "FECHA_PETICION/LAB_DATE                0\n",
       "HORA_PETICION/TIME_LAB                 0\n",
       "DETERMINACION/ITEM_LAB                 0\n",
       "RESULTADO/VAL_RESULT                   9\n",
       "UNIDADES/UD_RESULT                 22395\n",
       "VALORES_REFERENCIA/REF_VALUES       9241\n",
       "dtype: int64"
      ]
     },
     "execution_count": 5,
     "metadata": {},
     "output_type": "execute_result"
    }
   ],
   "source": [
    "df_lab.isna().sum()"
   ]
  },
  {
   "cell_type": "code",
   "execution_count": 6,
   "metadata": {},
   "outputs": [
    {
     "name": "stdout",
     "output_type": "stream",
     "text": [
      "<class 'pandas.core.frame.DataFrame'>\n",
      "RangeIndex: 396055 entries, 0 to 396054\n",
      "Data columns (total 8 columns):\n",
      "PATIENT ID                         396055 non-null int64\n",
      "PETICION_LABORATORIO/LAB_NUMBER    396055 non-null object\n",
      "FECHA_PETICION/LAB_DATE            396055 non-null object\n",
      "HORA_PETICION/TIME_LAB             396055 non-null object\n",
      "DETERMINACION/ITEM_LAB             396055 non-null object\n",
      "RESULTADO/VAL_RESULT               396046 non-null object\n",
      "UNIDADES/UD_RESULT                 373660 non-null object\n",
      "VALORES_REFERENCIA/REF_VALUES      386814 non-null object\n",
      "dtypes: int64(1), object(7)\n",
      "memory usage: 24.2+ MB\n"
     ]
    }
   ],
   "source": [
    "df_lab.info()"
   ]
  },
  {
   "cell_type": "code",
   "execution_count": 7,
   "metadata": {},
   "outputs": [
    {
     "data": {
      "text/plain": [
       "(396055, 8)"
      ]
     },
     "execution_count": 7,
     "metadata": {},
     "output_type": "execute_result"
    }
   ],
   "source": [
    "df_lab.shape"
   ]
  },
  {
   "cell_type": "markdown",
   "metadata": {},
   "source": [
    "## Feature Exploration"
   ]
  },
  {
   "cell_type": "code",
   "execution_count": 8,
   "metadata": {},
   "outputs": [],
   "source": [
    "#Creamos copia para no destrozar los datos originales\n",
    "result = df_lab.copy()"
   ]
  },
  {
   "cell_type": "code",
   "execution_count": 9,
   "metadata": {},
   "outputs": [],
   "source": [
    "#Vemos que hay inconsistencia de datos sobre 'PETICION_LABORATORIO/LAB_NUMBER','UNIDADES/UD_RESULT'\n",
    "result.drop(['PETICION_LABORATORIO/LAB_NUMBER','UNIDADES/UD_RESULT'],axis=1, inplace=True)"
   ]
  },
  {
   "cell_type": "code",
   "execution_count": 10,
   "metadata": {},
   "outputs": [],
   "source": [
    "#separamos tabla sin referencias para posteriormente estudiarlo con un especialista medico\n",
    "result_sref = result.loc[result['VALORES_REFERENCIA/REF_VALUES'].isnull(), :]\n",
    "result_sref.to_csv(\"4_sref.csv\",sep=',')"
   ]
  },
  {
   "cell_type": "code",
   "execution_count": 11,
   "metadata": {},
   "outputs": [],
   "source": [
    "result = result.loc[result['VALORES_REFERENCIA/REF_VALUES'].notnull(), :]"
   ]
  },
  {
   "cell_type": "code",
   "execution_count": 12,
   "metadata": {},
   "outputs": [],
   "source": [
    "result.drop(['VALORES_REFERENCIA/REF_VALUES'],axis=1, inplace=True)"
   ]
  },
  {
   "cell_type": "code",
   "execution_count": 13,
   "metadata": {},
   "outputs": [
    {
     "data": {
      "text/plain": [
       "PATIENT ID                 0\n",
       "FECHA_PETICION/LAB_DATE    0\n",
       "HORA_PETICION/TIME_LAB     0\n",
       "DETERMINACION/ITEM_LAB     0\n",
       "RESULTADO/VAL_RESULT       0\n",
       "dtype: int64"
      ]
     },
     "execution_count": 13,
     "metadata": {},
     "output_type": "execute_result"
    }
   ],
   "source": [
    "result.isna().sum()"
   ]
  },
  {
   "cell_type": "code",
   "execution_count": 14,
   "metadata": {},
   "outputs": [],
   "source": [
    "result['RESULTADO/VAL_RESULT'].fillna(0, inplace=True)"
   ]
  },
  {
   "cell_type": "code",
   "execution_count": 15,
   "metadata": {},
   "outputs": [
    {
     "name": "stdout",
     "output_type": "stream",
     "text": [
      "Feature 'FECHA_PETICION/LAB_DATE' has 111 unique categories\n",
      "Feature 'HORA_PETICION/TIME_LAB' has 905 unique categories\n",
      "Feature 'DETERMINACION/ITEM_LAB' has 290 unique categories\n",
      "Feature 'RESULTADO/VAL_RESULT' has 17427 unique categories\n"
     ]
    }
   ],
   "source": [
    "# Decide which categorical variables you want to use in model\n",
    "for col_name in result.columns:\n",
    "    if result[col_name].dtypes == 'object' :\n",
    "        unique_cat = len(result[col_name].unique())\n",
    "        print(\"Feature '{col_name}' has {unique_cat} unique categories\".format(\n",
    "                col_name=col_name, unique_cat=unique_cat))"
   ]
  },
  {
   "cell_type": "code",
   "execution_count": 16,
   "metadata": {},
   "outputs": [
    {
     "data": {
      "text/plain": [
       "{0: 'ACDNAN -- Ac. ANTI nDNA',\n",
       " 1: 'ACETRECEP -- Ac. ANTI RECEPTOR ACETILCOLINA',\n",
       " 2: 'ACLCR -- ACLARAMIENTO CREATININA',\n",
       " 3: 'ACTH -- ACTH (HORMONA ADRENOCORTICOTROPA)',\n",
       " 4: 'ADAL -- ADENOSIN DESAMINASA (ADA) EN LCR',\n",
       " 5: 'ADW -- Coeficiente de anisocitosis',\n",
       " 6: 'AFP -- ALFA FETOPROTEINA',\n",
       " 7: 'ALB -- ALBUMINA',\n",
       " 8: 'ALB-CREA -- COCIENTE ALBUMINA-CREATININA ORINA',\n",
       " 9: 'ALUP -- ANTICOAGULANTE LUPICO',\n",
       " 10: 'AMA -- AMA (AC. ANTIMITOCONDRIALES)',\n",
       " 11: 'AMI -- AMILASA',\n",
       " 12: 'AMIKAV -- AMIKACINA VALLE',\n",
       " 13: 'AMIL -- AMILASA LIQUIDO',\n",
       " 14: 'AMO -- AMONIACO',\n",
       " 15: 'ANA -- ANA (AC. ANTINUCLEARES)',\n",
       " 16: 'ANCA -- ANCA (AC. ANTINEUTROFILOS)',\n",
       " 17: 'ANTIPLAQD -- ANTICUERPOS ANTIPLAQUETARIOS DIRECTOS',\n",
       " 18: 'ANTIPLAQIN -- ANTICUERPOS ANTIPLAQUETARIOS INDIRECTOS',\n",
       " 19: 'ANTI_CCP -- Ac. ANTI CCP',\n",
       " 20: 'AP -- ACTIVIDAD DE PROTROMBINA',\n",
       " 21: 'APTT -- TIEMPO DE CEFALINA (APTT)',\n",
       " 22: 'AU -- ACIDO URICO',\n",
       " 23: 'AVISADOPAR -- Parám. críticos',\n",
       " 24: 'B2GLICOG -- Ac. IgG ANTI BETA-2-GLICOPROTEINA',\n",
       " 25: 'B2GLICOM -- Ac. IgM ANTI BETA-2-GLICOPROTEINA',\n",
       " 26: 'B2M -- BETA2 MICROGLOBULINA                                                            ',\n",
       " 27: 'BAS -- Basófilos',\n",
       " 28: 'BAS% -- Basófilos %',\n",
       " 29: 'BD -- BILIRRUBINA DIRECTA',\n",
       " 30: 'BE(B)U -- BE(b) ARTERIA UMBILICAL',\n",
       " 31: 'BE(b) -- BE(b)',\n",
       " 32: 'BE(b)V -- BE (b)',\n",
       " 33: 'BEecf -- BEecf',\n",
       " 34: 'BEecfV -- BEecf',\n",
       " 35: 'BHCG -- BETA HCG',\n",
       " 36: 'BORG -- ANTICUERPOS ANTI BORRELIA IgG',\n",
       " 37: 'BORM -- ANTICUERPOS ANTI BORRELIA IgM',\n",
       " 38: 'BT -- BILIRRUBINA TOTAL                                                               ',\n",
       " 39: 'C3 -- COMPLEMENTO C3',\n",
       " 40: 'C4 -- COMPLEMENTO C4',\n",
       " 41: 'CA -- CALCIO                                                                          ',\n",
       " 42: 'CA++ -- Ca++ Gasometria',\n",
       " 43: 'CA125 -- CA 125',\n",
       " 44: 'CA153 -- CA 15.3',\n",
       " 45: 'CA199 -- CA 19.9',\n",
       " 46: 'CALPRO -- CALPROTECTINA HECES',\n",
       " 47: 'CAO24 -- CALCIO ORINA 24 H',\n",
       " 48: 'CARDIG -- Ac. IgG ANTICARDIOLIPINA                                                        ',\n",
       " 49: 'CARDIM -- Ac. IgM ANTICARDIOLIPINA                                                        ',\n",
       " 50: 'CEA -- CEA (ANTIGENO CARCINOEMBRIONARIO)',\n",
       " 51: 'CH50 -- COMPLEMENTO CH50',\n",
       " 52: 'CHCM -- Conc. Hemoglobina Corpuscular Media',\n",
       " 53: 'CHNEGIFI -- AC. ANTICHLAMYDIA PNEUMONIAE IgG  IFI',\n",
       " 54: 'CHNEMIFI -- AC. ANTICHLAMYDIA PNEUMONIAE IgM  IFI',\n",
       " 55: 'CK -- CK (CREATINQUINASA)',\n",
       " 56: 'CKMB -- CK-MB',\n",
       " 57: 'CL -- CLORO',\n",
       " 58: 'CLOR -- CLORO EN ORINA',\n",
       " 59: 'CMVDNA -- DNA CITOMEGALOVIRUS',\n",
       " 60: 'CMVG -- Ac. IgG ANTI CITOMEGALOVIRUS',\n",
       " 61: 'CMVM -- Ac. IgM ANTI CITOMEGALOVIRUS',\n",
       " 62: 'COL -- COLESTEROL TOTAL',\n",
       " 63: 'COLL -- COLESTEROL LIQUIDO',\n",
       " 64: 'COREM -- AC. IGM ANTI HBC',\n",
       " 65: 'CORET -- ANTICUERPOS TOTALES ANTI CORE VHB',\n",
       " 66: 'CORT -- CORTISOL',\n",
       " 67: 'COXG -- AC. ANTI COXIELLA IgG',\n",
       " 68: 'COXM -- AC. ANTI COXIELLA IgM',\n",
       " 69: 'CREA -- CREATININA',\n",
       " 70: 'CREA24 -- CREATININA 24H',\n",
       " 71: 'CREAOR -- CREATININA EN ORINA AIS.',\n",
       " 72: 'CROMOG -- CROMOGRANINA -A-',\n",
       " 73: 'CRYPTO -- AG. CRYPTOCOCCUS NEOFORMANS SUERO',\n",
       " 74: 'CVCMV -- Carga Viral Citomegalovirus',\n",
       " 75: 'DD -- DIMERO D',\n",
       " 76: 'DIGO -- DIGOXINA',\n",
       " 77: 'EOS -- Eosinófilos',\n",
       " 78: 'EOS% -- Eosinófilos %',\n",
       " 79: 'EPO -- ERITROPOYETINA',\n",
       " 80: 'EPSG -- AC. EPSTEIN-BAAR IgG',\n",
       " 81: 'EPSM -- AC. EPSTEIN-BAAR IgM',\n",
       " 82: 'EVERO -- EVEROLIMUS',\n",
       " 83: 'FA -- FOSFATASA ALCALINA',\n",
       " 84: 'FE -- HIERRO',\n",
       " 85: 'FER -- FERRITINA',\n",
       " 86: 'FGLO -- FILTRADO GLOMERULAR',\n",
       " 87: 'FIB -- FIBRINÓGENO',\n",
       " 88: 'FII -- FACTOR II',\n",
       " 89: 'FIX -- FACTOR IX',\n",
       " 90: 'FOL -- ACIDO FOLICO',\n",
       " 91: 'FOS -- FOSFORO',\n",
       " 92: 'FR -- FACTOR REUMATOIDE',\n",
       " 93: 'FRO1 -- ',\n",
       " 94: 'FRO_COMEN -- ',\n",
       " 95: 'FV -- FACTOR V',\n",
       " 96: 'FVII -- FACTOR VII',\n",
       " 97: 'FVIII -- FACTOR VIII',\n",
       " 98: 'FX -- FACTOR X',\n",
       " 99: 'FXI -- FACTOR XI',\n",
       " 100: 'G-CORONAV (RT-PCR) -- Tipo de muestra: EXUDADO',\n",
       " 101: 'G6PDH -- GLUCOSA 6 P DESHIDROGENASA (G6PDH)',\n",
       " 102: 'GALACT -- GALACTOMANANO',\n",
       " 103: 'GGT -- GGT (GAMMA GLUTAMIL TRANSPEPTIDASA)',\n",
       " 104: 'GLU -- GLUCOSA',\n",
       " 105: 'GLUG -- GLUCOSA (GASOMETRIA)',\n",
       " 106: 'GLUG+P -- Glucosa',\n",
       " 107: 'GLUL -- GLUCOSA LIQUIDO',\n",
       " 108: 'GLULCR -- GLUCOSA LCR',\n",
       " 109: 'GLUOR -- GLUCOSA EN ORINA AIS.',\n",
       " 110: 'GOT -- GOT (AST)',\n",
       " 111: 'GPT -- GPT (ALT)',\n",
       " 112: 'HAPTO -- HAPTOGLOBINA',\n",
       " 113: 'HBA1C -- HEMOGLOBINA GLICOSILADA  (HBA1C)',\n",
       " 114: 'HCM -- Hemoglobina Corpuscular Media',\n",
       " 115: 'HCO3 -- HCO3-',\n",
       " 116: 'HCO3V -- HCO3-',\n",
       " 117: 'HCTO -- Hematocrito',\n",
       " 118: 'HDL -- COLESTEROL HDL',\n",
       " 119: 'HEM -- Hematíes',\n",
       " 120: 'HGB -- Hemoglobina',\n",
       " 121: 'HTCG -- Htc Gasometria',\n",
       " 122: 'IGA -- IgA  (INMUNOGLOBULINA A)',\n",
       " 123: 'IGD -- IgD  (INMUNOGLOBULINA D)',\n",
       " 124: 'IGE -- IgE  (INMUNOGLOBULINA E)',\n",
       " 125: 'IGG -- IgG  (INMUNOGLOBULINA G)',\n",
       " 126: 'IGM -- IgM  (INMUNOGLOBULINA M)',\n",
       " 127: 'IL6 -- INTERLEUCINA 6',\n",
       " 128: 'INMUCIR -- INMUNOCOMPLEJOS CIRCULANTES',\n",
       " 129: 'INR -- INR',\n",
       " 130: 'ISTRA -- INDICE DE SATURACION DE TRANSFERRINA',\n",
       " 131: 'JO1IN -- AC. ANTI JO-1 IN',\n",
       " 132: 'K -- POTASIO',\n",
       " 133: 'K+ -- K+ Gasometria',\n",
       " 134: 'K+P -- K+',\n",
       " 135: 'KA-LASUE -- COCIENTE KAPPA-LAMBDA SUERO',\n",
       " 136: 'KAPPA -- CADENAS KAPPA SUERO',\n",
       " 137: 'KAPPAOR -- CADENAS LIGERAS KAPPA ORINA',\n",
       " 138: 'KO -- POTASIO EN ORINA AIS.',\n",
       " 139: 'KO24 -- POTASIO ORINA 24H',\n",
       " 140: 'LAC -- LACTATO',\n",
       " 141: 'LAC+P -- Lactato',\n",
       " 142: 'LAMBDA -- CADENAS LAMBDA SUERO',\n",
       " 143: 'LAMBDAOR -- CADENAS LIGERAS LAMBDA ORINA',\n",
       " 144: 'LDH -- LDH',\n",
       " 145: 'LDHL -- LDH LIQUIDO',\n",
       " 146: 'LDL -- COLESTEROL LDL',\n",
       " 147: 'LEGIOG -- AC. ANTI LEGIONELA IgG (*)',\n",
       " 148: 'LEGIOM -- AC. ANTI LEGIONELA IgM (*)',\n",
       " 149: 'LEUC -- Leucocitos',\n",
       " 150: 'LEULCR -- Recuento Leucocitos',\n",
       " 151: 'LI -- LITIO',\n",
       " 152: 'LIN -- Linfocitos',\n",
       " 153: 'LIN% -- Linfocitos %',\n",
       " 154: 'LIPASA -- LIPASA',\n",
       " 155: 'LISOZI -- LISOZIMA',\n",
       " 156: 'LKM -- AC. LKM',\n",
       " 157: 'MENGLO -- Ac. ANTI MEMBRANA BASAL GLOMERULAR',\n",
       " 158: 'MG -- MAGNESIO',\n",
       " 159: 'MICALB -- MICROALBUMINURIA ORINA AIS.',\n",
       " 160: 'MIO -- MIOGLOBINA',\n",
       " 161: 'MONO -- Monocitos',\n",
       " 162: 'MONO% -- Monocitos %',\n",
       " 163: 'MXD -- MXD (Mono+Eos+Baso)',\n",
       " 164: 'MXD% -- MXD (Mono+Eos+Baso) %',\n",
       " 165: 'MYCOG -- ANTI MYCOPLASMA PN IgG',\n",
       " 166: 'MYCOM -- ANTI MYCOPLASMA PN IgM',\n",
       " 167: 'NA -- SODIO',\n",
       " 168: 'NA+ -- NA+ Gasometria',\n",
       " 169: 'NA+P -- NA+',\n",
       " 170: 'NAO -- SODIO EN ORINA AIS.',\n",
       " 171: 'NAO24 -- SODIO ORINA 24H',\n",
       " 172: 'NEU -- Neutrófilos',\n",
       " 173: 'NEU% -- Neutrófilos %',\n",
       " 174: 'NSE -- ENOLASA ESPEC. NEURONAL',\n",
       " 175: 'OBS_MICRO -- Observaciones Microbiología',\n",
       " 176: 'OSMOORM -- OSMOLALIDAD EN ORINA (MEDIDA)',\n",
       " 177: 'OSMOR -- OSMOLARIDAD EN ORINA',\n",
       " 178: 'OSMOSM -- OSMOLALIDAD EN SUERO (MEDIDA)',\n",
       " 179: 'OSMS -- OSMOLARIDAD EN SANGRE',\n",
       " 180: 'PCF -- PROTEÍNA C FUNCIONAL COAGULACIÓN',\n",
       " 181: 'PCO2 -- pCO2',\n",
       " 182: 'PCO2V -- pCO2',\n",
       " 183: 'PCR -- PROTEINA C REACTIVA',\n",
       " 184: 'PCR VIRUS RESPIRATORIOS -- Tipo de muestra: ASPIRADO BRONCOALVEOLAR',\n",
       " 185: 'PCR VIRUS RESPIRATORIOS -- Tipo de muestra: ESPUTO',\n",
       " 186: 'PCR VIRUS RESPIRATORIOS -- Tipo de muestra: EXUDADO',\n",
       " 187: 'PCR VIRUS RESPIRATORIOS -- Tipo de muestra: LAVADO BRONCOALVEOLAR',\n",
       " 188: 'PCR VIRUS RESPIRATORIOS -- Tipo de muestra: LAVADO NASOFARINGEO',\n",
       " 189: 'PCR VIRUS RESPIRATORIOS -- Tipo de muestra: LAVADO NASOFARÍNGEO',\n",
       " 190: 'PH -- pH',\n",
       " 191: 'PHAU -- PH ARTERIA UMBILICAL',\n",
       " 192: 'PHL -- pH EN LIQUIDO',\n",
       " 193: 'PHV -- pH',\n",
       " 194: 'PLAQ -- Recuento de plaquetas',\n",
       " 195: 'PLAQCIT -- PLAQUETAS EN CITRATO',\n",
       " 196: 'PO2 -- pO2',\n",
       " 197: 'PO2V -- pO2',\n",
       " 198: 'POCAMI -- POC AMILASA',\n",
       " 199: 'POCAP -- ACTIVIDAD DE PROTROMBINA P',\n",
       " 200: 'POCAPTT -- POC TIEMPO DE CEFALINA (APTT)',\n",
       " 201: 'POCBT -- POC BILIRRUBINA TOTAL',\n",
       " 202: 'POCCA++ -- POC Ca++ Gasometría',\n",
       " 203: 'POCCK -- POC CK (CREATINQUINASA)',\n",
       " 204: 'POCCKMB -- POC CK-MB',\n",
       " 205: 'POCCL -- POC CLORO',\n",
       " 206: 'POCCREA -- POC CREATININA',\n",
       " 207: 'POCDD -- POC DIMERO D',\n",
       " 208: 'POCGLU -- POC GLUCOSA',\n",
       " 209: 'POCGOT -- POC GOT (AST)',\n",
       " 210: 'POCGPT -- POC GPT (ALT)',\n",
       " 211: 'POCINR -- POC INR',\n",
       " 212: 'POCK -- POC POTASIO',\n",
       " 213: 'POCLAC -- POC LACTATO',\n",
       " 214: 'POCNA -- POC SODIO',\n",
       " 215: 'POCTP -- POC TIEMPO DE PROTROMBINA',\n",
       " 216: 'POCTROPO -- POC TROPONINA',\n",
       " 217: 'POCU -- POC UREA',\n",
       " 218: 'PREALB -- PREALBUMINA',\n",
       " 219: 'PROBNP -- PEPTIDO NATRIURETICO CEREBRAL B',\n",
       " 220: 'PROCAL -- PROCALCITONINA',\n",
       " 221: 'PROTRET -- PROTEINA FIJADORA RETINOL',\n",
       " 222: 'PSA -- PSA TOTAL',\n",
       " 223: 'PSF -- PROTEÍNA S FUNCIONAL COAGULACIÓN',\n",
       " 224: 'PT -- PROTEINAS TOTALES',\n",
       " 225: 'PT24 -- PROTEINAS TOTALES ORINA 24H',\n",
       " 226: 'PTL -- PROTEINAS TOTALES EN LIQUIDO',\n",
       " 227: 'PTLCR -- PROTEINAS LCR',\n",
       " 228: 'P_ALB -- Albúmina',\n",
       " 229: 'P_ALBP -- Albúmina %',\n",
       " 230: 'P_ALFA1 -- Alfa 1',\n",
       " 231: 'P_ALFA1P -- Alfa 1 %',\n",
       " 232: 'P_ALFA2 -- Alfa 2',\n",
       " 233: 'P_ALFA2P -- Alfa 2 %',\n",
       " 234: 'P_BETA -- Beta',\n",
       " 235: 'P_BETAP -- Beta %',\n",
       " 236: 'P_CAG -- Albúmina/Globulina',\n",
       " 237: 'P_GAMMA -- Gamma',\n",
       " 238: 'P_GAMMAP -- Gamma %',\n",
       " 239: 'RESOLIL -- RECEPTOR SOLUBLE INTERLEUCINA 2',\n",
       " 240: 'RESUL_IFT -- Resultado',\n",
       " 241: 'RETIS -- Reticulocitos Recuento',\n",
       " 242: 'RETISP -- Reticulocitos %',\n",
       " 243: 'RNPIN -- Ac. ANTI RNP IN',\n",
       " 244: 'SMA -- AC. ANTI MUSCULO LISO (SMA)',\n",
       " 245: 'SMIN -- AC. ANTI SM IN',\n",
       " 246: 'SO2C -- sO2c (Saturación de oxígeno)',\n",
       " 247: 'SO2CV -- sO2c (Saturación de oxígeno)',\n",
       " 248: 'SSAIN -- Ac. ANTI SSA/RO IN',\n",
       " 249: 'SSBIN -- Ac. ANTI SSB/LA IN',\n",
       " 250: 'SUPAR -- suPAR',\n",
       " 251: 'T3 -- T3 TOTAL',\n",
       " 252: 'T4 -- T4 TOTAL (TIROXINA)',\n",
       " 253: 'T4L -- T4 LIBRE                                                                        ',\n",
       " 254: 'TCO2 -- tCO2(B)c',\n",
       " 255: 'TCO2V -- tCO2 (B)',\n",
       " 256: 'TOXOG -- Ac. IgG ANTI TOXOPLASMA',\n",
       " 257: 'TOXOM -- Ac. IgM ANTI TOXOPLASMA',\n",
       " 258: 'TP -- TIEMPO DE PROTROMBINA',\n",
       " 259: 'TRANS -- TRANSFERRINA',\n",
       " 260: 'TRANSG -- TRANSGLUTAMINASA IGG',\n",
       " 261: 'TRANSGL -- Ac. IgA ANTI TRANSGLUTAMINASA                                                   ',\n",
       " 262: 'TREPOT -- Ac. Totales Anti Treponema pallidum',\n",
       " 263: 'TRIGLI -- TRIGLICERIDOS',\n",
       " 264: 'TRIGLIL -- TRIGLICERIDOS LIQUIDO',\n",
       " 265: 'TRIPTA -- TRIPTASA',\n",
       " 266: 'TROPO -- TROPONINA',\n",
       " 267: 'TSH -- TSH',\n",
       " 268: 'U -- UREA',\n",
       " 269: 'UOR -- UREA EN ORINA AIS.',\n",
       " 270: 'VALP -- ACIDO VALPROICO (DEPAKINE)',\n",
       " 271: 'VANCOP -- VANCOMICINA PICO',\n",
       " 272: 'VANCOV -- VANCOMICINA VALLE',\n",
       " 273: 'VARG -- ANTI VARICELA IgG',\n",
       " 274: 'VARM -- ANTI VARICELA IgM',\n",
       " 275: 'VCM -- Volumen Corpuscular Medio',\n",
       " 276: 'VHAM -- Ac. IgM ANTI HEPATITIS A',\n",
       " 277: 'VHBSAC -- AC. SUPERFICIE ANTI HEPATITIS B',\n",
       " 278: 'VHBSAG -- AG. SUPERFICIE HEPATITIS B (AgHBs)',\n",
       " 279: 'VHCAC -- AC. ANTI HEPATITIS C',\n",
       " 280: 'VHS1DNA -- DNA VIRUS HERPES SIMPLE 1',\n",
       " 281: 'VHS1G -- AC. ANTI HERPES SIMPLE1 IgG',\n",
       " 282: 'VHS1M -- AC. ANTI HERPES SIMPLE1 IgM',\n",
       " 283: 'VHS2DNA -- DNA VIRUS HERPES SIMPLE 2',\n",
       " 284: 'VHS2G -- ANTICUERPOS IgG ANTI HERPES TIPO 2 EN SUERO',\n",
       " 285: 'VHS2M -- ANTICUERPOS IgM ANTI HERPES TIPO 2 EN SUERO',\n",
       " 286: 'VIHAC -- VIH AC',\n",
       " 287: 'VITB12 -- VITAMINA B12',\n",
       " 288: 'VPM -- Volumen plaquetar medio',\n",
       " 289: 'VSG -- VSG'}"
      ]
     },
     "execution_count": 16,
     "metadata": {},
     "output_type": "execute_result"
    }
   ],
   "source": [
    "#Tratamos las variables categoricas unicas\n",
    "result['DETERMINACION/ITEM_LAB'] = result['DETERMINACION/ITEM_LAB'].astype('category')\n",
    "farm=dict( enumerate(result['DETERMINACION/ITEM_LAB'].cat.categories ) )\n",
    "result['DETERMINACION/ITEM_LAB'] = result['DETERMINACION/ITEM_LAB'].cat.codes\n",
    "farm"
   ]
  },
  {
   "cell_type": "code",
   "execution_count": 17,
   "metadata": {},
   "outputs": [],
   "source": [
    "#HGB -- Hemoglobina"
   ]
  },
  {
   "cell_type": "code",
   "execution_count": 18,
   "metadata": {},
   "outputs": [],
   "source": [
    "#Leemos el csv al que mapeariamos para establecer relacion entre PACIENTE ID y su resultado DIAG ING/INPAT\n",
    "#Variable a predecir\n",
    "df=pd.read_csv('01.csv',encoding='ISO-8859-1',sep=';',parse_dates=True,dayfirst=True)\n",
    "result1 = result"
   ]
  },
  {
   "cell_type": "code",
   "execution_count": 19,
   "metadata": {},
   "outputs": [],
   "source": [
    "rename_dict = df.set_index('PATIENT ID').to_dict()['MOTIVO_ALTA/DESTINY_DISCHARGE_ING']"
   ]
  },
  {
   "cell_type": "code",
   "execution_count": 20,
   "metadata": {},
   "outputs": [],
   "source": [
    "result1['PATIENT ID'] = result1['PATIENT ID'].replace(rename_dict)\n",
    "result1 = result1[result1['PATIENT ID'].notnull()]"
   ]
  },
  {
   "cell_type": "code",
   "execution_count": 21,
   "metadata": {},
   "outputs": [
    {
     "data": {
      "text/plain": [
       "{0: 509,\n",
       " 1: 'Alta Voluntaria',\n",
       " 2: 'Domicilio',\n",
       " 3: 'Fallecimiento',\n",
       " 4: 'Traslado a un Centro Sociosanitario',\n",
       " 5: 'Traslado al Hospital'}"
      ]
     },
     "execution_count": 21,
     "metadata": {},
     "output_type": "execute_result"
    }
   ],
   "source": [
    "result1['PATIENT ID'] = result1['PATIENT ID'].astype('category')\n",
    "test=dict( enumerate(result1['PATIENT ID'].cat.categories ) )\n",
    "result1['PATIENT ID'] = result1['PATIENT ID'].cat.codes\n",
    "result1.rename(columns={'PATIENT ID':'MOTIVO_ALTA/DESTINY_DISCHARGE_ING'}, inplace=True)\n",
    "test"
   ]
  },
  {
   "cell_type": "markdown",
   "metadata": {},
   "source": [
    "Nos encontramos con una inconsistencia de datos, chequeamos el csv01 y vemos que no existe un paciente con ID:509 por lo que eliminamos dicho registro."
   ]
  },
  {
   "cell_type": "code",
   "execution_count": 22,
   "metadata": {},
   "outputs": [],
   "source": [
    "result = result[(result[['PATIENT ID']] != 509).all(axis=1)]"
   ]
  },
  {
   "cell_type": "code",
   "execution_count": 23,
   "metadata": {},
   "outputs": [],
   "source": [
    "result['PATIENT ID'] = result['PATIENT ID'].replace(rename_dict)\n",
    "result = result[result['PATIENT ID'].notnull()]"
   ]
  },
  {
   "cell_type": "code",
   "execution_count": 24,
   "metadata": {},
   "outputs": [
    {
     "data": {
      "text/plain": [
       "{0: 'Alta Voluntaria',\n",
       " 1: 'Domicilio',\n",
       " 2: 'Fallecimiento',\n",
       " 3: 'Traslado a un Centro Sociosanitario',\n",
       " 4: 'Traslado al Hospital'}"
      ]
     },
     "execution_count": 24,
     "metadata": {},
     "output_type": "execute_result"
    }
   ],
   "source": [
    "result['PATIENT ID'] = result['PATIENT ID'].astype('category')\n",
    "test=dict( enumerate(result['PATIENT ID'].cat.categories ) )\n",
    "result['PATIENT ID'] = result['PATIENT ID'].cat.codes\n",
    "result.rename(columns={'PATIENT ID':'MOTIVO_ALTA/DESTINY_DISCHARGE_ING'}, inplace=True)\n",
    "test"
   ]
  },
  {
   "cell_type": "code",
   "execution_count": 25,
   "metadata": {},
   "outputs": [
    {
     "data": {
      "text/plain": [
       "False"
      ]
     },
     "execution_count": 25,
     "metadata": {},
     "output_type": "execute_result"
    }
   ],
   "source": [
    "(result['MOTIVO_ALTA/DESTINY_DISCHARGE_ING'].values < 0).any()"
   ]
  },
  {
   "cell_type": "code",
   "execution_count": 26,
   "metadata": {},
   "outputs": [
    {
     "name": "stdout",
     "output_type": "stream",
     "text": [
      "<class 'pandas.core.frame.DataFrame'>\n",
      "Int64Index: 303864 entries, 0 to 396054\n",
      "Data columns (total 5 columns):\n",
      "MOTIVO_ALTA/DESTINY_DISCHARGE_ING    303864 non-null int8\n",
      "FECHA_PETICION/LAB_DATE              303864 non-null object\n",
      "HORA_PETICION/TIME_LAB               303864 non-null object\n",
      "DETERMINACION/ITEM_LAB               303864 non-null int16\n",
      "RESULTADO/VAL_RESULT                 303864 non-null object\n",
      "dtypes: int16(1), int8(1), object(3)\n",
      "memory usage: 10.1+ MB\n"
     ]
    }
   ],
   "source": [
    "result.info()"
   ]
  },
  {
   "cell_type": "markdown",
   "metadata": {},
   "source": [
    "## Exploratory Data analysis"
   ]
  },
  {
   "cell_type": "code",
   "execution_count": 27,
   "metadata": {},
   "outputs": [
    {
     "data": {
      "image/png": "[encoded data removed]",
      "text/plain": [
       "<Figure size 2160x2160 with 2 Axes>"
      ]
     },
     "metadata": {
      "needs_background": "light"
     },
     "output_type": "display_data"
    }
   ],
   "source": [
    "plt.figure(figsize=(30,30))\n",
    "sns.heatmap(result.corr(), annot=True, cmap=\"RdYlGn\", square=True, mask=np.triu(result.corr(), k=1))\n",
    "plt.title(\"4 Correlation matrix of COVID DATA SAFE LIVES\",fontsize=50)\n",
    "plt.show()"
   ]
  },
  {
   "cell_type": "markdown",
   "metadata": {},
   "source": [
    "As expected there is no relationship between these variables."
   ]
  },
  {
   "cell_type": "markdown",
   "metadata": {},
   "source": [
    "### General"
   ]
  },
  {
   "cell_type": "code",
   "execution_count": 28,
   "metadata": {},
   "outputs": [
    {
     "data": {
      "image/png": "[encoded data removed]",
      "text/plain": [
       "<Figure size 1440x21600 with 1 Axes>"
      ]
     },
     "metadata": {
      "needs_background": "light"
     },
     "output_type": "display_data"
    }
   ],
   "source": [
    "col_numeric = list(result.select_dtypes(include = \"int16\"))\n",
    "# visualizing the other categorical variables\n",
    "plt.figure(figsize=(20,300))\n",
    "for i,col in enumerate(col_numeric, start=1):\n",
    "    plt.subplot(4,1,i)\n",
    "    plt.xticks(rotation=90)\n",
    "    sns.countplot(result[col])\n",
    "    plt.xlabel(col, fontsize=10,fontweight=\"bold\")\n",
    "plt.show()"
   ]
  },
  {
   "cell_type": "markdown",
   "metadata": {},
   "source": [
    "Hay demasiados valores de entradas por lo que no podemos visualizarlo gráficamente."
   ]
  },
  {
   "cell_type": "code",
   "execution_count": 29,
   "metadata": {},
   "outputs": [
    {
     "data": {
      "image/png": "[encoded data removed]",
      "text/plain": [
       "<Figure size 1080x432 with 1 Axes>"
      ]
     },
     "metadata": {
      "needs_background": "light"
     },
     "output_type": "display_data"
    }
   ],
   "source": [
    "# visualizing the DETERMINACION/ITEM_LAB\n",
    "plt.figure(figsize=(15,6))\n",
    "top50 = result[\"DETERMINACION/ITEM_LAB\"].value_counts().sort_values(ascending=False).head(50).plot.bar()\n",
    "plt.xticks(rotation=90)\n",
    "plt.xlabel(\"DETERMINACION/ITEM_LAB\", fontweight=\"bold\")\n",
    "plt.ylabel(\"Count\", fontweight=\"bold\")\n",
    "plt.title(\"TOP 50 DETERMINACION/ITEM_LAB\", fontweight=\"bold\")\n",
    "plt.show()"
   ]
  },
  {
   "cell_type": "code",
   "execution_count": 30,
   "metadata": {},
   "outputs": [
    {
     "name": "stdout",
     "output_type": "stream",
     "text": [
      "1    74.833807\n",
      "2    21.864387\n",
      "4     2.539623\n",
      "3     0.686491\n",
      "0     0.075692\n",
      "Name: MOTIVO_ALTA/DESTINY_DISCHARGE_ING, dtype: float64\n",
      "2020-03-30    4.653398\n",
      "2020-03-26    4.487205\n",
      "2020-03-27    4.380907\n",
      "2020-04-01    4.347998\n",
      "2020-03-24    4.311797\n",
      "2020-03-31    4.283824\n",
      "2020-03-25    4.282508\n",
      "2020-03-23    3.933668\n",
      "2020-03-29    3.755628\n",
      "2020-04-02    3.692112\n",
      "Name: FECHA_PETICION/LAB_DATE, dtype: float64\n",
      "0:00     82.195653\n",
      "17:39     0.073059\n",
      "18:22     0.072401\n",
      "12:23     0.070755\n",
      "17:17     0.068781\n",
      "16:04     0.067464\n",
      "20:04     0.067135\n",
      "22:26     0.066806\n",
      "12:44     0.065161\n",
      "10:47     0.064832\n",
      "Name: HORA_PETICION/TIME_LAB, dtype: float64\n",
      "52     2.428389\n",
      "275    2.428389\n",
      "149    2.428389\n",
      "120    2.428389\n",
      "119    2.428389\n",
      "117    2.428389\n",
      "114    2.428389\n",
      "194    2.428389\n",
      "172    2.426744\n",
      "153    2.426744\n",
      "Name: DETERMINACION/ITEM_LAB, dtype: float64\n",
      "0       2.257589\n",
      "0.01    1.076139\n",
      "0.2     0.797396\n",
      "0.1     0.703604\n",
      "0.02    0.661809\n",
      "0.3     0.578219\n",
      "0.03    0.420912\n",
      "0.4     0.420254\n",
      "0.5     0.356739\n",
      "0.6     0.300463\n",
      "Name: RESULTADO/VAL_RESULT, dtype: float64\n"
     ]
    }
   ],
   "source": [
    "for col_name in result.columns:\n",
    "    print(result[col_name].value_counts(normalize=True).head(10) * 100)"
   ]
  },
  {
   "cell_type": "markdown",
   "metadata": {},
   "source": [
    "FECHA_PETICION/LAB_DATE: mayormente al finales de marzo y principios de abril\n",
    "    \n",
    "HORA_PETICION/TIME_LAB: 84,79% a las 0:00 suponemos que no sabrían la hora exacta por lo que pusieron como general.\n",
    "\n",
    "DETERMINACION/ITEM_LAB: N\n",
    "\n",
    "RESULTADO/VAL_RESULT: varios sin resultados."
   ]
  },
  {
   "cell_type": "code",
   "execution_count": 31,
   "metadata": {},
   "outputs": [],
   "source": [
    "s_filter = result['MOTIVO_ALTA/DESTINY_DISCHARGE_ING']<2\n",
    "e_filter =(result['MOTIVO_ALTA/DESTINY_DISCHARGE_ING']==3 )+ (result['MOTIVO_ALTA/DESTINY_DISCHARGE_ING']==4)\n",
    "f_filter = result['MOTIVO_ALTA/DESTINY_DISCHARGE_ING']==2\n",
    "#204: 'LEGIORI -- AG. LEGIONELA PNEUMOPHILA EN ORINA',\n",
    "#240: 'NEUMOORI -- AG NEUMOCOCO EN ORINA',"
   ]
  },
  {
   "cell_type": "markdown",
   "metadata": {},
   "source": [
    "### Sanados"
   ]
  },
  {
   "cell_type": "code",
   "execution_count": 32,
   "metadata": {},
   "outputs": [
    {
     "name": "stdout",
     "output_type": "stream",
     "text": [
      "1    99.898956\n",
      "0     0.101044\n",
      "Name: MOTIVO_ALTA/DESTINY_DISCHARGE_ING, dtype: float64\n",
      "2020-03-30    5.017068\n",
      "2020-03-26    4.709542\n",
      "2020-04-01    4.664731\n",
      "2020-03-24    4.494713\n",
      "2020-03-31    4.486366\n",
      "2020-03-27    4.302729\n",
      "2020-03-25    4.256160\n",
      "2020-03-29    4.149405\n",
      "2020-04-02    3.982902\n",
      "2020-03-23    3.967086\n",
      "2020-03-28    3.873949\n",
      "2020-04-03    3.730291\n",
      "2020-04-06    3.679329\n",
      "2020-04-04    3.266366\n",
      "2020-03-22    3.198271\n",
      "2020-03-20    2.808152\n",
      "2020-03-19    2.591566\n",
      "2020-04-07    2.561692\n",
      "2020-03-21    2.558617\n",
      "2020-04-09    2.547194\n",
      "Name: FECHA_PETICION/LAB_DATE, dtype: float64\n",
      "0:00     81.246183\n",
      "14:07     0.081275\n",
      "13:09     0.077321\n",
      "17:39     0.076442\n",
      "17:17     0.075564\n",
      "12:24     0.071610\n",
      "16:04     0.071170\n",
      "16:24     0.069852\n",
      "10:47     0.068534\n",
      "18:06     0.068534\n",
      "16:50     0.068534\n",
      "15:32     0.067656\n",
      "11:41     0.066338\n",
      "18:19     0.066338\n",
      "13:06     0.065898\n",
      "13:01     0.064141\n",
      "13:23     0.063702\n",
      "20:38     0.062823\n",
      "12:39     0.062384\n",
      "17:05     0.061066\n",
      "Name: HORA_PETICION/TIME_LAB, dtype: float64\n",
      "194    2.523910\n",
      "52     2.523910\n",
      "149    2.523910\n",
      "117    2.523910\n",
      "119    2.523910\n",
      "120    2.523910\n",
      "114    2.523910\n",
      "275    2.523910\n",
      "173    2.523471\n",
      "172    2.523471\n",
      "152    2.523471\n",
      "153    2.523471\n",
      "5      2.516442\n",
      "288    2.505898\n",
      "161    2.499308\n",
      "78     2.499308\n",
      "27     2.499308\n",
      "28     2.499308\n",
      "77     2.499308\n",
      "162    2.499308\n",
      "Name: DETERMINACION/ITEM_LAB, dtype: float64\n",
      "0       2.111386\n",
      "0.01    1.115002\n",
      "0.2     0.820655\n",
      "0.02    0.727079\n",
      "0.1     0.637458\n",
      "0.3     0.603190\n",
      "0.4     0.459532\n",
      "0.03    0.443716\n",
      "0.5     0.386165\n",
      "0.6     0.321584\n",
      "0.04    0.301376\n",
      "0.7     0.290392\n",
      "13      0.269305\n",
      "0.8     0.262715\n",
      "13.2    0.249975\n",
      "34      0.239431\n",
      "33      0.237674\n",
      "1.1     0.237234\n",
      "0.9     0.234159\n",
      "1       0.233720\n",
      "Name: RESULTADO/VAL_RESULT, dtype: float64\n"
     ]
    }
   ],
   "source": [
    "for col_name in result[s_filter].columns:\n",
    "    print(result[s_filter][col_name].value_counts(normalize=True).head(20) * 100)"
   ]
  },
  {
   "cell_type": "markdown",
   "metadata": {},
   "source": [
    "FECHA_PETICION/LAB_DATE: N\n",
    "    \n",
    "HORA_PETICION/TIME_LAB: 85.01% a las 0:00 y las otras horas interpretamos cuando se recopila la solicitud.\n",
    "\n",
    "DETERMINACION/ITEM_LAB: 'VPM -- Volumen plaquetar medio'(120), 'PLAQ -- Recuento de plaquetas'(117), 'CHCM -- Conc. Hemoglobina Corpuscular Media'(275), 'HCM -- Hemoglobina Corpuscular Media'(163), 'HCTO -- Hematocrito'(166)...muchas con las mismas peticiones.\n",
    "\n",
    "RESULTADO/VAL_RESULT: 1,86% Negativo"
   ]
  },
  {
   "cell_type": "markdown",
   "metadata": {},
   "source": [
    "### Enfermos"
   ]
  },
  {
   "cell_type": "code",
   "execution_count": 33,
   "metadata": {},
   "outputs": [
    {
     "name": "stdout",
     "output_type": "stream",
     "text": [
      "4    78.7208\n",
      "3    21.2792\n",
      "Name: MOTIVO_ALTA/DESTINY_DISCHARGE_ING, dtype: float64\n",
      "2020-03-27    5.957360\n",
      "2020-04-13    5.131082\n",
      "2020-04-06    4.763848\n",
      "2020-03-24    4.743446\n",
      "2020-04-09    4.590432\n",
      "2020-03-22    4.396613\n",
      "2020-04-08    4.049781\n",
      "2020-04-10    3.723350\n",
      "2020-03-23    3.631541\n",
      "2020-03-25    3.549934\n",
      "Name: FECHA_PETICION/LAB_DATE, dtype: float64\n",
      "0:00     75.915536\n",
      "16:27     0.734469\n",
      "11:42     0.601857\n",
      "12:14     0.459043\n",
      "20:00     0.448842\n",
      "21:22     0.448842\n",
      "19:23     0.448842\n",
      "20:26     0.438641\n",
      "13:44     0.438641\n",
      "0:06      0.438641\n",
      "Name: HORA_PETICION/TIME_LAB, dtype: float64\n",
      "52     2.478833\n",
      "172    2.478833\n",
      "173    2.478833\n",
      "152    2.478833\n",
      "149    2.478833\n",
      "117    2.478833\n",
      "114    2.478833\n",
      "5      2.478833\n",
      "119    2.478833\n",
      "275    2.478833\n",
      "Name: DETERMINACION/ITEM_LAB, dtype: float64\n",
      "0       2.427828\n",
      "0.01    1.091503\n",
      "0.2     0.836479\n",
      "0.1     0.663062\n",
      "0.02    0.622258\n",
      "0.3     0.601857\n",
      "0.6     0.377435\n",
      "0.03    0.367235\n",
      "0.4     0.367235\n",
      "0.5     0.346833\n",
      "Name: RESULTADO/VAL_RESULT, dtype: float64\n"
     ]
    }
   ],
   "source": [
    "for col_name in result[e_filter].columns:\n",
    "    print(result[e_filter][col_name].value_counts(normalize=True).head(10) * 100)"
   ]
  },
  {
   "cell_type": "markdown",
   "metadata": {},
   "source": [
    "MOTIVO_ALTA/DESTINY_DISCHARGE_ING: 93,67% son solicitados por los TRASLADADO AL CENTRO SOCIOSANITARIO.\n",
    "\n",
    "FECHA_PETICION/LAB_DATE: 2020-03-31 con 4,44%, 2020-03-24 con 4,24% y 2020-04-01 con 4,07%.\n",
    "    \n",
    "HORA_PETICION/TIME_LAB: a las 0:00 con 82,93%.\n",
    "\n",
    "DETERMINACION/ITEM_LAB: N\n",
    "\n",
    "RESULTADO/VAL_RESULT: 0,01 con un 1%, 0,2 con un 0,81% y 0,1 con un 0,74%."
   ]
  },
  {
   "cell_type": "markdown",
   "metadata": {},
   "source": [
    "### Fallecidos"
   ]
  },
  {
   "cell_type": "code",
   "execution_count": 34,
   "metadata": {},
   "outputs": [
    {
     "name": "stdout",
     "output_type": "stream",
     "text": [
      "2    100.0\n",
      "Name: MOTIVO_ALTA/DESTINY_DISCHARGE_ING, dtype: float64\n",
      "2020-03-25    4.480869\n",
      "2020-03-27    4.416147\n",
      "2020-03-26    3.988681\n",
      "2020-03-31    3.908908\n",
      "2020-03-30    3.866763\n",
      "2020-03-23    3.863753\n",
      "2020-03-24    3.621421\n",
      "2020-04-01    3.467895\n",
      "2020-04-06    3.373070\n",
      "2020-04-04    3.355008\n",
      "2020-04-07    3.177398\n",
      "2020-04-08    3.124718\n",
      "2020-03-20    3.081068\n",
      "2020-03-22    3.064511\n",
      "2020-04-03    2.987748\n",
      "2020-04-02    2.968181\n",
      "2020-03-18    2.927541\n",
      "2020-04-09    2.811644\n",
      "2020-03-28    2.790572\n",
      "2020-04-10    2.740901\n",
      "Name: FECHA_PETICION/LAB_DATE, dtype: float64\n",
      "0:00     86.375267\n",
      "13:11     0.177609\n",
      "20:33     0.161052\n",
      "18:14     0.161052\n",
      "22:26     0.152021\n",
      "17:35     0.132454\n",
      "12:23     0.130949\n",
      "13:58     0.129444\n",
      "13:20     0.124929\n",
      "14:25     0.120413\n",
      "18:01     0.120413\n",
      "18:22     0.118908\n",
      "22:41     0.118908\n",
      "14:31     0.117403\n",
      "16:08     0.115898\n",
      "16:02     0.114392\n",
      "21:11     0.108372\n",
      "12:49     0.106867\n",
      "14:09     0.106867\n",
      "13:36     0.103856\n",
      "Name: HORA_PETICION/TIME_LAB, dtype: float64\n",
      "132    2.173455\n",
      "167    2.170445\n",
      "120    2.093681\n",
      "114    2.093681\n",
      "194    2.093681\n",
      "117    2.093681\n",
      "119    2.093681\n",
      "275    2.093681\n",
      "52     2.093681\n",
      "149    2.093681\n",
      "172    2.087661\n",
      "152    2.087661\n",
      "153    2.087661\n",
      "173    2.087661\n",
      "27     2.072609\n",
      "77     2.072609\n",
      "161    2.072609\n",
      "162    2.072609\n",
      "78     2.072609\n",
      "28     2.072609\n",
      "Name: DETERMINACION/ITEM_LAB, dtype: float64\n",
      "0       2.733375\n",
      "0.01    0.940727\n",
      "0.1     0.936211\n",
      "0.2     0.711942\n",
      "0.3     0.489178\n",
      "0.02    0.444023\n",
      "0.03    0.350703\n",
      "99      0.311569\n",
      "0.4     0.293507\n",
      "97      0.278455\n",
      "0.5     0.257383\n",
      "0.04    0.251362\n",
      "1.4     0.249857\n",
      "98      0.248352\n",
      "31      0.243836\n",
      "2.2     0.233300\n",
      "1.1     0.228785\n",
      "94      0.227280\n",
      "96      0.225774\n",
      "1.8     0.218249\n",
      "Name: RESULTADO/VAL_RESULT, dtype: float64\n"
     ]
    }
   ],
   "source": [
    "for col_name in result[f_filter].columns:\n",
    "    print(result[f_filter][col_name].value_counts(normalize=True).head(20) * 100)"
   ]
  },
  {
   "cell_type": "markdown",
   "metadata": {},
   "source": [
    "FECHA_PETICION/LAB_DATE: 2020-03-30 con 4,51% , 2020-03-26 con 4,24% y 2020-04-01 con 4,14%.\n",
    "    \n",
    "HORA_PETICION/TIME_LAB: 84,66% en las 0:00.\n",
    "\n",
    "DETERMINACION/ITEM_LAB: N\n",
    "\n",
    "RESULTADO/VAL_RESULT: el resultado 0,3 tiene un pequeño aumento respecto a los otros que disminuye."
   ]
  },
  {
   "cell_type": "code",
   "execution_count": 35,
   "metadata": {},
   "outputs": [],
   "source": [
    "result.to_csv(\"4cambiado.csv\",sep=',',index= False)"
   ]
  },
  {
   "cell_type": "code",
   "execution_count": 36,
   "metadata": {},
   "outputs": [],
   "source": [
    "result[\"Unique\"] = result[f_filter][\"DETERMINACION/ITEM_LAB\"][~result[f_filter][\"DETERMINACION/ITEM_LAB\"].isin(result[s_filter][\"DETERMINACION/ITEM_LAB\"])].drop_duplicates()"
   ]
  },
  {
   "cell_type": "code",
   "execution_count": 37,
   "metadata": {},
   "outputs": [],
   "source": [
    "result[\"Unique\"] = result[\"Unique\"].astype('category')"
   ]
  },
  {
   "cell_type": "code",
   "execution_count": 38,
   "metadata": {},
   "outputs": [],
   "source": [
    "test=dict( enumerate(result[\"Unique\"].cat.categories ) )"
   ]
  },
  {
   "cell_type": "code",
   "execution_count": 39,
   "metadata": {},
   "outputs": [
    {
     "data": {
      "text/plain": [
       "{0: 4.0,\n",
       " 1: 17.0,\n",
       " 2: 18.0,\n",
       " 3: 23.0,\n",
       " 4: 63.0,\n",
       " 5: 72.0,\n",
       " 6: 82.0,\n",
       " 7: 88.0,\n",
       " 8: 89.0,\n",
       " 9: 94.0,\n",
       " 10: 95.0,\n",
       " 11: 96.0,\n",
       " 12: 97.0,\n",
       " 13: 98.0,\n",
       " 14: 99.0,\n",
       " 15: 123.0,\n",
       " 16: 133.0,\n",
       " 17: 155.0,\n",
       " 18: 168.0,\n",
       " 19: 174.0,\n",
       " 20: 176.0,\n",
       " 21: 178.0,\n",
       " 22: 180.0,\n",
       " 23: 198.0,\n",
       " 24: 207.0,\n",
       " 25: 218.0,\n",
       " 26: 221.0,\n",
       " 27: 223.0,\n",
       " 28: 264.0,\n",
       " 29: 276.0}"
      ]
     },
     "execution_count": 39,
     "metadata": {},
     "output_type": "execute_result"
    }
   ],
   "source": [
    "#resultados LAB unicos de fallecidos \n",
    "test"
   ]
  },
  {
   "cell_type": "markdown",
   "metadata": {},
   "source": [
    "neg= result[f_filter].loc[:, 'DETERMINACION/ITEM_LAB'] == \n",
    "neg = result.loc[neg]\n",
    "neg.head(30)"
   ]
  },
  {
   "cell_type": "markdown",
   "metadata": {},
   "source": [
    "205    'LEUC -- Leucocitos'  (4.4 - 11.3)\n",
    "238    'NEU -- Neutrófilos'  (1.5 - 7.5)\n",
    "239    'NEU% -- Neutrófilos %'  (40.0 - 75.0)\n",
    "163    'HCM -- Hemoglobina Corpuscular Media'  (28.0 - 33.0)\n",
    "#211    'LIN% -- Linfocitos %'    menos  (20.0 - 50.0)\n",
    "5      'ADW -- Coeficiente de anisocitosis'  (11.5 - 14.5)\n",
    "166    'HCTO -- Hematocrito' (40.0 - 52.0)\n",
    "398    'VPM -- Volumen plaquetar medio'  (7.4 - 10.4)\n",
    "285     'PLAQ -- Recuento de plaquetas'  (150.0 - 450.0)\n",
    "74     'CHCM -- Conc. Hemoglobina Corpuscular Media'  (33.0 - 36.0)\n",
    "168    'HEM -- Hematíes'  (4.5 - 5.1)\n",
    "171    'HGB -- Hemoglobina'  (14.0 - 17.5)\n",
    "382    'VCM -- Volumen Corpuscular Medio' (80.0 - 99.0)\n",
    "210    'LIN -- Linfocitos'  (1.2 - 3.4)\n",
    "38     'BAS -- Basófilos'  (0.0 - 0.3)\n",
    "113    'EOS -- Eosinófilos'  (0.1 - 0.6)\n",
    "114    'EOS% -- Eosinófilos %'  (2.0 - 7.0)\n",
    "224    'MONO -- Monocitos'  (0.1 - 0.8)\n",
    "225    'MONO% -- Monocitos %'  (2.0 - 8.0)\n",
    "39     'BAS% -- Basófilos %'  (0.0 - 3.0)\n",
    "\n",
    "------------------------------------------------\n",
    "121  'EVERO -- EVEROLIMUS'  (3.0 - 8.0)\n",
    "142  'G-CORONAV (RT-PCR) -- Tipo de muestra: ASPIRADO NASAL', se detecta \n",
    "148  'G6PDH -- GLUCOSA 6 P DESHIDROGENASA (G6PDH)'  (221.0 - 570.0)\n",
    "213  'LISOZI -- LISOZIMA'  (2.5-8.0)  supera\n",
    "377  'VALP -- ACIDO VALPROICO (DEPAKINE)'  (50.0 - 100.0) inferior"
   ]
  },
  {
   "cell_type": "code",
   "execution_count": null,
   "metadata": {},
   "outputs": [],
   "source": [
    "#Guardamos una copia csv de los datos limpiados\n",
    "result.to_csv(\"DataFrame4_Limpio.csv\",sep=',')"
   ]
  },
  {
   "cell_type": "markdown",
   "metadata": {},
   "source": [
    "## Creating Dependent and Independent Variables"
   ]
  },
  {
   "cell_type": "code",
   "execution_count": null,
   "metadata": {},
   "outputs": [],
   "source": [
    "result.drop(['FECHA_PETICION/LAB_DATE','HORA_PETICION/TIME_LAB'],axis=1, inplace=True)\n",
    "result.applymap(str)\n",
    "result.applymap(str).iloc[0,0]\n",
    "result = result.applymap(str)\n",
    "X = result.drop(['MOTIVO_ALTA/DESTINY_DISCHARGE_ING'],axis=1)\n",
    "test_features = X.columns.to_list()\n",
    "# dependent variable\n",
    "y = result['MOTIVO_ALTA/DESTINY_DISCHARGE_ING']    "
   ]
  },
  {
   "cell_type": "markdown",
   "metadata": {},
   "source": [
    "## Splitting data into train test data"
   ]
  },
  {
   "cell_type": "code",
   "execution_count": null,
   "metadata": {},
   "outputs": [],
   "source": [
    "# splitting into train and test data\n",
    "# I will train using 90% of the data to enhanced accuracy\n",
    "X_train, X_test, y_train, y_test = train_test_split(X, y, test_size=0.1, random_state=0)"
   ]
  },
  {
   "cell_type": "markdown",
   "metadata": {},
   "source": [
    "# Modelling"
   ]
  },
  {
   "cell_type": "markdown",
   "metadata": {},
   "source": [
    "## Decision Trees"
   ]
  },
  {
   "cell_type": "code",
   "execution_count": null,
   "metadata": {},
   "outputs": [],
   "source": [
    "model = DecisionTreeClassifier()\n",
    "model = model.fit(X_train,y_train)\n",
    "predictions = model.predict(X_test)\n",
    "score = accuracy_score(y_test,predictions)*100\n",
    "print('Decision Tree Classifier Training Accuracy:', score,'%')"
   ]
  },
  {
   "cell_type": "code",
   "execution_count": null,
   "metadata": {},
   "outputs": [],
   "source": [
    "tree.export_graphviz(model, out_file = '2covid_decisiontree.dot')\n",
    "dotfile = StringIO()\n",
    "tree.export_graphviz(model, out_file=dotfile,filled = True, rounded = True, \n",
    "                    feature_names = test_features, class_names = sorted(y.unique()), label = 'all')\n",
    "graph = pydotplus.graph_from_dot_data(dotfile.getvalue())\n",
    "graph.write_png('2covid_tree.png')\n",
    "Image(graph.create_png())\n"
   ]
  },
  {
   "cell_type": "markdown",
   "metadata": {},
   "source": [
    "## Random Forest Classifier"
   ]
  },
  {
   "cell_type": "code",
   "execution_count": null,
   "metadata": {},
   "outputs": [],
   "source": [
    "forest = RandomForestClassifier(n_estimators=100)\n",
    "forest = forest.fit(X_train,y_train)\n",
    "predictions = forest.predict(X_test)\n",
    "score = accuracy_score(y_test,predictions)*100\n",
    "print('Random Forest Classifier Training Accuracy:', score,'%')"
   ]
  },
  {
   "cell_type": "code",
   "execution_count": null,
   "metadata": {},
   "outputs": [],
   "source": [
    "dot_data = StringIO()\n",
    "# pick a specific tree from the forest\n",
    "tree = forest.estimators_[50]\n",
    "export_graphviz(tree, out_file = dot_data, filled = True, rounded = True, \n",
    "                    feature_names = test_features, class_names = sorted(y.unique()), label = 'all', special_characters=True)\n",
    "graph = pydotplus.graph_from_dot_data(dot_data.getvalue())  \n",
    "graph.write_png('2covid_forest.png')\n",
    "Image(graph.create_png())"
   ]
  }
 ],
 "metadata": {
  "kernelspec": {
   "display_name": "Python 3",
   "language": "python",
   "name": "python3"
  },
  "language_info": {
   "codemirror_mode": {
    "name": "ipython",
    "version": 3
   },
   "file_extension": ".py",
   "mimetype": "text/x-python",
   "name": "python",
   "nbconvert_exporter": "python",
   "pygments_lexer": "ipython3",
   "version": "3.7.3"
  }
 },
 "nbformat": 4,
 "nbformat_minor": 2
}
